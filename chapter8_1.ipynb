{
  "nbformat": 4,
  "nbformat_minor": 0,
  "metadata": {
    "colab": {
      "provenance": [],
      "authorship_tag": "ABX9TyMM7fTVCL4wh+atPhjRtHmF",
      "include_colab_link": true
    },
    "kernelspec": {
      "name": "python3",
      "display_name": "Python 3"
    },
    "language_info": {
      "name": "python"
    }
  },
  "cells": [
    {
      "cell_type": "markdown",
      "metadata": {
        "id": "view-in-github",
        "colab_type": "text"
      },
      "source": [
        "<a href=\"https://colab.research.google.com/github/Son-github/MachineLearning_Study/blob/main/chapter8_1.ipynb\" target=\"_parent\"><img src=\"https://colab.research.google.com/assets/colab-badge.svg\" alt=\"Open In Colab\"/></a>"
      ]
    },
    {
      "cell_type": "code",
      "execution_count": null,
      "metadata": {
        "colab": {
          "base_uri": "https://localhost:8080/"
        },
        "id": "ykunbk0l4fKu",
        "outputId": "9485fd22-f19f-4f08-b851-ebe6885cd23d"
      },
      "outputs": [
        {
          "output_type": "execute_result",
          "data": {
            "text/plain": [
              "<keras.layers.convolutional.conv2d.Conv2D at 0x7f27924833a0>"
            ]
          },
          "metadata": {},
          "execution_count": 1
        }
      ],
      "source": [
        "from tensorflow import keras\n",
        "keras.layers.Conv2D(10, kernel_size=(3,3), activation='relu') #10은 필터의 개수, kernel_size는 커널의 크기(하이퍼파라미터), activation은 활성화 함수를 뜻함. 일반적으로 특성 맵은 활성화 함수를 통과한 값을 나타냄"
      ]
    },
    {
      "cell_type": "code",
      "source": [
        "keras.layers.Conv2D(10, kernel_size=(3,3), activation='relu', padding='same') #padding은 입력 배열의 주위를 가상의 원소로 채우는 것. 주로 입력과 특성 맵의 크기를 동일하게 만들기 위해 쓰이는 것을 세임 패딩, 패딩 없이 특성 맵을 만드는 경우를 밸리드 패딩이라 함."
      ],
      "metadata": {
        "colab": {
          "base_uri": "https://localhost:8080/"
        },
        "id": "2wklhx8P5E9I",
        "outputId": "ff2101de-2209-47a7-905e-3e38cdace4fc"
      },
      "execution_count": null,
      "outputs": [
        {
          "output_type": "execute_result",
          "data": {
            "text/plain": [
              "<keras.layers.convolutional.conv2d.Conv2D at 0x7f270f192910>"
            ]
          },
          "metadata": {},
          "execution_count": 2
        }
      ]
    },
    {
      "cell_type": "code",
      "source": [
        "keras.layers.Conv2D(10, kernel_size=(3,3), activation='relu', padding='same', strides=1) #strides는 합성곱 연산이 몇 칸씩 건너뛸 수 있는지 말하는 것. 기본값은 1이다."
      ],
      "metadata": {
        "colab": {
          "base_uri": "https://localhost:8080/"
        },
        "id": "wr3-EcnS6gG9",
        "outputId": "cd2e6aca-6757-4311-8745-190d22feb0c7"
      },
      "execution_count": null,
      "outputs": [
        {
          "output_type": "execute_result",
          "data": {
            "text/plain": [
              "<keras.layers.convolutional.conv2d.Conv2D at 0x7f270f107970>"
            ]
          },
          "metadata": {},
          "execution_count": 3
        }
      ]
    },
    {
      "cell_type": "code",
      "source": [
        "keras.layers.MaxPooling2D(2, strides=2, padding='valid') #2는 풀링의 크기, strides의 기본값은 자동으로 풀링의 크기이므로 따로 지정할 필요가 없음. padding의 기본값은 'valid'로 패딩을 하지 않음."
      ],
      "metadata": {
        "colab": {
          "base_uri": "https://localhost:8080/"
        },
        "id": "YS9PNlWa7vO3",
        "outputId": "da7f7deb-cc5f-479a-eda5-0f02ab216053"
      },
      "execution_count": null,
      "outputs": [
        {
          "output_type": "execute_result",
          "data": {
            "text/plain": [
              "<keras.layers.pooling.max_pooling2d.MaxPooling2D at 0x7f270fd28880>"
            ]
          },
          "metadata": {},
          "execution_count": 4
        }
      ]
    },
    {
      "cell_type": "code",
      "source": [],
      "metadata": {
        "id": "B1B45bg38Z3-"
      },
      "execution_count": null,
      "outputs": []
    }
  ]
}